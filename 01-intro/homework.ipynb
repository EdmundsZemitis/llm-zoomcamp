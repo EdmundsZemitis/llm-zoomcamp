{
 "cells": [
  {
   "cell_type": "code",
   "execution_count": 1,
   "id": "a5c92b6f-2868-4fc9-a079-018dc38f52ba",
   "metadata": {},
   "outputs": [],
   "source": [
    "import openai"
   ]
  },
  {
   "cell_type": "code",
   "execution_count": 2,
   "id": "a7efe5d1-7495-4c29-a33d-a09d43e2d783",
   "metadata": {},
   "outputs": [],
   "source": [
    "from openai import OpenAI"
   ]
  },
  {
   "cell_type": "code",
   "execution_count": 3,
   "id": "081cf1e5-90b0-4fb0-89b0-cdbe7c7b999e",
   "metadata": {},
   "outputs": [],
   "source": [
    "client = OpenAI(api_key = 'sk-proj-GA1K8eoMyO3Lp54q2A3yT3BlbkFJFl7GaXdR8IWiV7mr1GY3')"
   ]
  },
  {
   "cell_type": "code",
   "execution_count": 4,
   "id": "4264562e-81d0-454f-8d54-7f677cfeffcd",
   "metadata": {},
   "outputs": [],
   "source": [
    "response=client.chat.completions.create(\n",
    "    model = 'gpt-4o-mini',\n",
    "    messages = [{\"role\": \"user\", \"content\": \"is it too late to join the course?\"}]\n",
    ")"
   ]
  },
  {
   "cell_type": "code",
   "execution_count": 5,
   "id": "82ee2bc2-0a5c-4f79-9c0d-eac14b994b1a",
   "metadata": {},
   "outputs": [
    {
     "data": {
      "text/plain": [
       "\"It depends on the specific course you're interested in. Many courses have set start dates and enrollment deadlines, while others may offer rolling admissions. If you can provide more details about the course you're considering, I can offer more tailored advice. It's usually best to check with the course provider directly for the most accurate information.\""
      ]
     },
     "execution_count": 5,
     "metadata": {},
     "output_type": "execute_result"
    }
   ],
   "source": [
    "response.choices[0].message.content"
   ]
  }
 ],
 "metadata": {
  "kernelspec": {
   "display_name": "Python 3 (ipykernel)",
   "language": "python",
   "name": "python3"
  },
  "language_info": {
   "codemirror_mode": {
    "name": "ipython",
    "version": 3
   },
   "file_extension": ".py",
   "mimetype": "text/x-python",
   "name": "python",
   "nbconvert_exporter": "python",
   "pygments_lexer": "ipython3",
   "version": "3.10.13"
  }
 },
 "nbformat": 4,
 "nbformat_minor": 5
}
